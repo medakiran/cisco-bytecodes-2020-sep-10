{
 "cells": [
  {
   "cell_type": "code",
   "execution_count": 1,
   "metadata": {},
   "outputs": [],
   "source": [
    "# compiled languages -- C, C++\n",
    "\n",
    "# byte-compiled languages -- Java, C# (.NET), Python \n",
    "\n",
    "# interpreted languages -- bash, Tcl"
   ]
  },
  {
   "cell_type": "code",
   "execution_count": 2,
   "metadata": {},
   "outputs": [],
   "source": [
    "def hello(name):\n",
    "    return f'Hello, {name}!'"
   ]
  },
  {
   "cell_type": "code",
   "execution_count": 3,
   "metadata": {},
   "outputs": [
    {
     "data": {
      "text/plain": [
       "'Hello, world!'"
      ]
     },
     "execution_count": 3,
     "metadata": {},
     "output_type": "execute_result"
    }
   ],
   "source": [
    "hello('world')"
   ]
  },
  {
   "cell_type": "code",
   "execution_count": 4,
   "metadata": {},
   "outputs": [
    {
     "ename": "TypeError",
     "evalue": "hello() missing 1 required positional argument: 'name'",
     "output_type": "error",
     "traceback": [
      "\u001b[0;31m---------------------------------------------------------------------------\u001b[0m",
      "\u001b[0;31mTypeError\u001b[0m                                 Traceback (most recent call last)",
      "\u001b[0;32m<ipython-input-4-a75d7781aaeb>\u001b[0m in \u001b[0;36m<module>\u001b[0;34m\u001b[0m\n\u001b[0;32m----> 1\u001b[0;31m \u001b[0mhello\u001b[0m\u001b[0;34m(\u001b[0m\u001b[0;34m)\u001b[0m\u001b[0;34m\u001b[0m\u001b[0;34m\u001b[0m\u001b[0m\n\u001b[0m",
      "\u001b[0;31mTypeError\u001b[0m: hello() missing 1 required positional argument: 'name'"
     ]
    }
   ],
   "source": [
    "hello()"
   ]
  },
  {
   "cell_type": "code",
   "execution_count": 5,
   "metadata": {},
   "outputs": [
    {
     "data": {
      "text/plain": [
       "['__annotations__',\n",
       " '__call__',\n",
       " '__class__',\n",
       " '__closure__',\n",
       " '__code__',\n",
       " '__defaults__',\n",
       " '__delattr__',\n",
       " '__dict__',\n",
       " '__dir__',\n",
       " '__doc__',\n",
       " '__eq__',\n",
       " '__format__',\n",
       " '__ge__',\n",
       " '__get__',\n",
       " '__getattribute__',\n",
       " '__globals__',\n",
       " '__gt__',\n",
       " '__hash__',\n",
       " '__init__',\n",
       " '__init_subclass__',\n",
       " '__kwdefaults__',\n",
       " '__le__',\n",
       " '__lt__',\n",
       " '__module__',\n",
       " '__name__',\n",
       " '__ne__',\n",
       " '__new__',\n",
       " '__qualname__',\n",
       " '__reduce__',\n",
       " '__reduce_ex__',\n",
       " '__repr__',\n",
       " '__setattr__',\n",
       " '__sizeof__',\n",
       " '__str__',\n",
       " '__subclasshook__']"
      ]
     },
     "execution_count": 5,
     "metadata": {},
     "output_type": "execute_result"
    }
   ],
   "source": [
    "dir(hello)"
   ]
  },
  {
   "cell_type": "code",
   "execution_count": 6,
   "metadata": {},
   "outputs": [
    {
     "data": {
      "text/plain": [
       "<code object hello at 0x110e45190, file \"<ipython-input-2-5a23b52c8aa5>\", line 1>"
      ]
     },
     "execution_count": 6,
     "metadata": {},
     "output_type": "execute_result"
    }
   ],
   "source": [
    "hello.__code__"
   ]
  },
  {
   "cell_type": "code",
   "execution_count": 7,
   "metadata": {},
   "outputs": [
    {
     "data": {
      "text/plain": [
       "['__class__',\n",
       " '__delattr__',\n",
       " '__dir__',\n",
       " '__doc__',\n",
       " '__eq__',\n",
       " '__format__',\n",
       " '__ge__',\n",
       " '__getattribute__',\n",
       " '__gt__',\n",
       " '__hash__',\n",
       " '__init__',\n",
       " '__init_subclass__',\n",
       " '__le__',\n",
       " '__lt__',\n",
       " '__ne__',\n",
       " '__new__',\n",
       " '__reduce__',\n",
       " '__reduce_ex__',\n",
       " '__repr__',\n",
       " '__setattr__',\n",
       " '__sizeof__',\n",
       " '__str__',\n",
       " '__subclasshook__',\n",
       " 'co_argcount',\n",
       " 'co_cellvars',\n",
       " 'co_code',\n",
       " 'co_consts',\n",
       " 'co_filename',\n",
       " 'co_firstlineno',\n",
       " 'co_flags',\n",
       " 'co_freevars',\n",
       " 'co_kwonlyargcount',\n",
       " 'co_lnotab',\n",
       " 'co_name',\n",
       " 'co_names',\n",
       " 'co_nlocals',\n",
       " 'co_posonlyargcount',\n",
       " 'co_stacksize',\n",
       " 'co_varnames',\n",
       " 'replace']"
      ]
     },
     "execution_count": 7,
     "metadata": {},
     "output_type": "execute_result"
    }
   ],
   "source": [
    "dir(hello.__code__)"
   ]
  },
  {
   "cell_type": "code",
   "execution_count": 8,
   "metadata": {},
   "outputs": [
    {
     "ename": "TypeError",
     "evalue": "hello() missing 1 required positional argument: 'name'",
     "output_type": "error",
     "traceback": [
      "\u001b[0;31m---------------------------------------------------------------------------\u001b[0m",
      "\u001b[0;31mTypeError\u001b[0m                                 Traceback (most recent call last)",
      "\u001b[0;32m<ipython-input-8-a75d7781aaeb>\u001b[0m in \u001b[0;36m<module>\u001b[0;34m\u001b[0m\n\u001b[0;32m----> 1\u001b[0;31m \u001b[0mhello\u001b[0m\u001b[0;34m(\u001b[0m\u001b[0;34m)\u001b[0m\u001b[0;34m\u001b[0m\u001b[0;34m\u001b[0m\u001b[0m\n\u001b[0m",
      "\u001b[0;31mTypeError\u001b[0m: hello() missing 1 required positional argument: 'name'"
     ]
    }
   ],
   "source": [
    "hello()"
   ]
  },
  {
   "cell_type": "code",
   "execution_count": 9,
   "metadata": {},
   "outputs": [
    {
     "data": {
      "text/plain": [
       "1"
      ]
     },
     "execution_count": 9,
     "metadata": {},
     "output_type": "execute_result"
    }
   ],
   "source": [
    "hello.__code__.co_argcount"
   ]
  },
  {
   "cell_type": "code",
   "execution_count": 10,
   "metadata": {},
   "outputs": [
    {
     "data": {
      "text/plain": [
       "2"
      ]
     },
     "execution_count": 10,
     "metadata": {},
     "output_type": "execute_result"
    }
   ],
   "source": [
    "def add(a, b):\n",
    "    return a + b\n",
    "\n",
    "add.__code__.co_argcount"
   ]
  },
  {
   "cell_type": "code",
   "execution_count": 11,
   "metadata": {},
   "outputs": [
    {
     "data": {
      "text/plain": [
       "('a', 'b')"
      ]
     },
     "execution_count": 11,
     "metadata": {},
     "output_type": "execute_result"
    }
   ],
   "source": [
    "add.__code__.co_varnames"
   ]
  },
  {
   "cell_type": "code",
   "execution_count": 12,
   "metadata": {},
   "outputs": [
    {
     "data": {
      "text/plain": [
       "('name',)"
      ]
     },
     "execution_count": 12,
     "metadata": {},
     "output_type": "execute_result"
    }
   ],
   "source": [
    "hello.__code__.co_varnames"
   ]
  },
  {
   "cell_type": "code",
   "execution_count": 13,
   "metadata": {},
   "outputs": [],
   "source": [
    "def hello(name):\n",
    "    s = f'Hello, {name}!'\n",
    "    return s"
   ]
  },
  {
   "cell_type": "code",
   "execution_count": 14,
   "metadata": {},
   "outputs": [
    {
     "data": {
      "text/plain": [
       "1"
      ]
     },
     "execution_count": 14,
     "metadata": {},
     "output_type": "execute_result"
    }
   ],
   "source": [
    "hello.__code__.co_argcount"
   ]
  },
  {
   "cell_type": "code",
   "execution_count": 15,
   "metadata": {},
   "outputs": [
    {
     "data": {
      "text/plain": [
       "('name', 's')"
      ]
     },
     "execution_count": 15,
     "metadata": {},
     "output_type": "execute_result"
    }
   ],
   "source": [
    "hello.__code__.co_varnames"
   ]
  },
  {
   "cell_type": "code",
   "execution_count": 16,
   "metadata": {},
   "outputs": [
    {
     "ename": "TypeError",
     "evalue": "hello() missing 1 required positional argument: 'name'",
     "output_type": "error",
     "traceback": [
      "\u001b[0;31m---------------------------------------------------------------------------\u001b[0m",
      "\u001b[0;31mTypeError\u001b[0m                                 Traceback (most recent call last)",
      "\u001b[0;32m<ipython-input-16-a75d7781aaeb>\u001b[0m in \u001b[0;36m<module>\u001b[0;34m\u001b[0m\n\u001b[0;32m----> 1\u001b[0;31m \u001b[0mhello\u001b[0m\u001b[0;34m(\u001b[0m\u001b[0;34m)\u001b[0m\u001b[0;34m\u001b[0m\u001b[0;34m\u001b[0m\u001b[0m\n\u001b[0m",
      "\u001b[0;31mTypeError\u001b[0m: hello() missing 1 required positional argument: 'name'"
     ]
    }
   ],
   "source": [
    "hello()"
   ]
  },
  {
   "cell_type": "code",
   "execution_count": 17,
   "metadata": {},
   "outputs": [
    {
     "ename": "TypeError",
     "evalue": "add() missing 2 required positional arguments: 'a' and 'b'",
     "output_type": "error",
     "traceback": [
      "\u001b[0;31m---------------------------------------------------------------------------\u001b[0m",
      "\u001b[0;31mTypeError\u001b[0m                                 Traceback (most recent call last)",
      "\u001b[0;32m<ipython-input-17-d5d29de3ed94>\u001b[0m in \u001b[0;36m<module>\u001b[0;34m\u001b[0m\n\u001b[0;32m----> 1\u001b[0;31m \u001b[0madd\u001b[0m\u001b[0;34m(\u001b[0m\u001b[0;34m)\u001b[0m\u001b[0;34m\u001b[0m\u001b[0;34m\u001b[0m\u001b[0m\n\u001b[0m",
      "\u001b[0;31mTypeError\u001b[0m: add() missing 2 required positional arguments: 'a' and 'b'"
     ]
    }
   ],
   "source": [
    "add()"
   ]
  },
  {
   "cell_type": "code",
   "execution_count": 18,
   "metadata": {},
   "outputs": [
    {
     "ename": "TypeError",
     "evalue": "add() missing 1 required positional argument: 'b'",
     "output_type": "error",
     "traceback": [
      "\u001b[0;31m---------------------------------------------------------------------------\u001b[0m",
      "\u001b[0;31mTypeError\u001b[0m                                 Traceback (most recent call last)",
      "\u001b[0;32m<ipython-input-18-fb866b66e1c7>\u001b[0m in \u001b[0;36m<module>\u001b[0;34m\u001b[0m\n\u001b[0;32m----> 1\u001b[0;31m \u001b[0madd\u001b[0m\u001b[0;34m(\u001b[0m\u001b[0;36m10\u001b[0m\u001b[0;34m)\u001b[0m\u001b[0;34m\u001b[0m\u001b[0;34m\u001b[0m\u001b[0m\n\u001b[0m",
      "\u001b[0;31mTypeError\u001b[0m: add() missing 1 required positional argument: 'b'"
     ]
    }
   ],
   "source": [
    "add(10)"
   ]
  },
  {
   "cell_type": "code",
   "execution_count": 19,
   "metadata": {},
   "outputs": [],
   "source": [
    "def add(a, b=10):\n",
    "    return a + b"
   ]
  },
  {
   "cell_type": "code",
   "execution_count": 20,
   "metadata": {},
   "outputs": [
    {
     "data": {
      "text/plain": [
       "110"
      ]
     },
     "execution_count": 20,
     "metadata": {},
     "output_type": "execute_result"
    }
   ],
   "source": [
    "add(50, 60)"
   ]
  },
  {
   "cell_type": "code",
   "execution_count": 21,
   "metadata": {},
   "outputs": [
    {
     "data": {
      "text/plain": [
       "60"
      ]
     },
     "execution_count": 21,
     "metadata": {},
     "output_type": "execute_result"
    }
   ],
   "source": [
    "add(50)"
   ]
  },
  {
   "cell_type": "code",
   "execution_count": 22,
   "metadata": {},
   "outputs": [
    {
     "data": {
      "text/plain": [
       "2"
      ]
     },
     "execution_count": 22,
     "metadata": {},
     "output_type": "execute_result"
    }
   ],
   "source": [
    "add.__code__.co_argcount"
   ]
  },
  {
   "cell_type": "code",
   "execution_count": 23,
   "metadata": {
    "scrolled": true
   },
   "outputs": [
    {
     "data": {
      "text/plain": [
       "(10,)"
      ]
     },
     "execution_count": 23,
     "metadata": {},
     "output_type": "execute_result"
    }
   ],
   "source": [
    "add.__defaults__"
   ]
  },
  {
   "cell_type": "code",
   "execution_count": 25,
   "metadata": {},
   "outputs": [],
   "source": [
    "def add(a, b=10):\n",
    "    return a + b"
   ]
  },
  {
   "cell_type": "code",
   "execution_count": 26,
   "metadata": {},
   "outputs": [
    {
     "data": {
      "text/plain": [
       "2"
      ]
     },
     "execution_count": 26,
     "metadata": {},
     "output_type": "execute_result"
    }
   ],
   "source": [
    "add.__code__.co_argcount"
   ]
  },
  {
   "cell_type": "code",
   "execution_count": 27,
   "metadata": {},
   "outputs": [
    {
     "data": {
      "text/plain": [
       "('a', 'b')"
      ]
     },
     "execution_count": 27,
     "metadata": {},
     "output_type": "execute_result"
    }
   ],
   "source": [
    "add.__code__.co_varnames"
   ]
  },
  {
   "cell_type": "code",
   "execution_count": 29,
   "metadata": {},
   "outputs": [
    {
     "data": {
      "text/plain": [
       "(10,)"
      ]
     },
     "execution_count": 29,
     "metadata": {},
     "output_type": "execute_result"
    }
   ],
   "source": [
    "add.__defaults__"
   ]
  },
  {
   "cell_type": "code",
   "execution_count": null,
   "metadata": {},
   "outputs": [],
   "source": [
    "add(5)"
   ]
  },
  {
   "cell_type": "code",
   "execution_count": 30,
   "metadata": {},
   "outputs": [
    {
     "data": {
      "text/plain": [
       "4"
      ]
     },
     "execution_count": 30,
     "metadata": {},
     "output_type": "execute_result"
    }
   ],
   "source": [
    "def foo(a, b=2, c=3, d=4):\n",
    "    return a + b + c + d\n",
    "\n",
    "foo.__code__.co_argcount"
   ]
  },
  {
   "cell_type": "code",
   "execution_count": 31,
   "metadata": {},
   "outputs": [
    {
     "data": {
      "text/plain": [
       "64"
      ]
     },
     "execution_count": 31,
     "metadata": {},
     "output_type": "execute_result"
    }
   ],
   "source": [
    "foo(10, 20, 30)"
   ]
  },
  {
   "cell_type": "code",
   "execution_count": 32,
   "metadata": {},
   "outputs": [
    {
     "data": {
      "text/plain": [
       "(2, 3, 4)"
      ]
     },
     "execution_count": 32,
     "metadata": {},
     "output_type": "execute_result"
    }
   ],
   "source": [
    "foo.__defaults__"
   ]
  },
  {
   "cell_type": "code",
   "execution_count": 33,
   "metadata": {},
   "outputs": [
    {
     "data": {
      "text/plain": [
       "('a', 'b', 'c', 'd')"
      ]
     },
     "execution_count": 33,
     "metadata": {},
     "output_type": "execute_result"
    }
   ],
   "source": [
    "foo.__code__.co_varnames"
   ]
  },
  {
   "cell_type": "code",
   "execution_count": 34,
   "metadata": {},
   "outputs": [],
   "source": [
    "def add(a, b):\n",
    "    return a + b"
   ]
  },
  {
   "cell_type": "code",
   "execution_count": 35,
   "metadata": {},
   "outputs": [
    {
     "data": {
      "text/plain": [
       "b'|\\x00|\\x01\\x17\\x00S\\x00'"
      ]
     },
     "execution_count": 35,
     "metadata": {},
     "output_type": "execute_result"
    }
   ],
   "source": [
    "add.__code__.co_code"
   ]
  },
  {
   "cell_type": "code",
   "execution_count": 37,
   "metadata": {},
   "outputs": [],
   "source": [
    "import dis  # in the standard library, \"disassembly\" module"
   ]
  },
  {
   "cell_type": "code",
   "execution_count": 38,
   "metadata": {},
   "outputs": [
    {
     "name": "stdout",
     "output_type": "stream",
     "text": [
      "  2           0 LOAD_FAST                0 (a)\n",
      "              2 LOAD_FAST                1 (b)\n",
      "              4 BINARY_ADD\n",
      "              6 RETURN_VALUE\n"
     ]
    }
   ],
   "source": [
    "dis.dis(add)"
   ]
  },
  {
   "cell_type": "code",
   "execution_count": 39,
   "metadata": {},
   "outputs": [
    {
     "data": {
      "text/plain": [
       "('a', 'b')"
      ]
     },
     "execution_count": 39,
     "metadata": {},
     "output_type": "execute_result"
    }
   ],
   "source": [
    "add.__code__.co_varnames"
   ]
  },
  {
   "cell_type": "code",
   "execution_count": 40,
   "metadata": {},
   "outputs": [],
   "source": [
    "# PyPy -- JIT compiled version of Python"
   ]
  },
  {
   "cell_type": "code",
   "execution_count": 43,
   "metadata": {},
   "outputs": [
    {
     "name": "stdout",
     "output_type": "stream",
     "text": [
      "\u0017\n"
     ]
    }
   ],
   "source": [
    "print(chr(0x17))"
   ]
  },
  {
   "cell_type": "code",
   "execution_count": 44,
   "metadata": {
    "collapsed": true
   },
   "outputs": [
    {
     "name": "stdout",
     "output_type": "stream",
     "text": [
      "\r\n",
      "ASCII(7)             BSD Miscellaneous Information Manual             ASCII(7)\r\n",
      "\r\n",
      "N\bNA\bAM\bME\bE\r\n",
      "     a\bas\bsc\bci\bii\bi -- octal, hexadecimal and decimal ASCII character sets\r\n",
      "\r\n",
      "D\bDE\bES\bSC\bCR\bRI\bIP\bPT\bTI\bIO\bON\bN\r\n",
      "     The o\boc\bct\bta\bal\bl set:\r\n",
      "\r\n",
      "     000 nul  001 soh  002 stx  003 etx  004 eot  005 enq  006 ack  007 bel\r\n",
      "     010 bs   011 ht   012 nl   013 vt   014 np   015 cr   016 so   017 si\r\n",
      "     020 dle  021 dc1  022 dc2  023 dc3  024 dc4  025 nak  026 syn  027 etb\r\n",
      "     030 can  031 em   032 sub  033 esc  034 fs   035 gs   036 rs   037 us\r\n",
      "     040 sp   041  !   042  \"   043  #   044  $   045  %   046  &   047  '\r\n",
      "     050  (   051  )   052  *   053  +   054  ,   055  -   056  .   057  /\r\n",
      "     060  0   061  1   062  2   063  3   064  4   065  5   066  6   067  7\r\n",
      "     070  8   071  9   072  :   073  ;   074  <   075  =   076  >   077  ?\r\n",
      "     100  @   101  A   102  B   103  C   104  D   105  E   106  F   107  G\r\n",
      "     110  H   111  I   112  J   113  K   114  L   115  M   116  N   117  O\r\n",
      "     120  P   121  Q   122  R   123  S   124  T   125  U   126  V   127  W\r\n",
      "     130  X   131  Y   132  Z   133  [   134  \\   135  ]   136  ^   137  _\r\n",
      "     140  `   141  a   142  b   143  c   144  d   145  e   146  f   147  g\r\n",
      "     150  h   151  i   152  j   153  k   154  l   155  m   156  n   157  o\r\n",
      "     160  p   161  q   162  r   163  s   164  t   165  u   166  v   167  w\r\n",
      "     170  x   171  y   172  z   173  {   174  |   175  }   176  ~   177 del\r\n",
      "\r\n",
      "     The h\bhe\bex\bxa\bad\bde\bec\bci\bim\bma\bal\bl set:\r\n",
      "\r\n",
      "     00 nul   01 soh   02 stx   03 etx   04 eot   05 enq   06 ack   07 bel\r\n",
      "     08 bs    09 ht    0a nl    0b vt    0c np    0d cr    0e so    0f si\r\n",
      "     10 dle   11 dc1   12 dc2   13 dc3   14 dc4   15 nak   16 syn   17 etb\r\n",
      "     18 can   19 em    1a sub   1b esc   1c fs    1d gs    1e rs    1f us\r\n",
      "     20 sp    21  !    22  \"    23  #    24  $    25  %    26  &    27  '\r\n",
      "     28  (    29  )    2a  *    2b  +    2c  ,    2d  -    2e  .    2f  /\r\n",
      "     30  0    31  1    32  2    33  3    34  4    35  5    36  6    37  7\r\n",
      "     38  8    39  9    3a  :    3b  ;    3c  <    3d  =    3e  >    3f  ?\r\n",
      "     40  @    41  A    42  B    43  C    44  D    45  E    46  F    47  G\r\n",
      "     48  H    49  I    4a  J    4b  K    4c  L    4d  M    4e  N    4f  O\r\n",
      "     50  P    51  Q    52  R    53  S    54  T    55  U    56  V    57  W\r\n",
      "     58  X    59  Y    5a  Z    5b  [    5c  \\    5d  ]    5e  ^    5f  _\r\n",
      "     60  `    61  a    62  b    63  c    64  d    65  e    66  f    67  g\r\n",
      "     68  h    69  i    6a  j    6b  k    6c  l    6d  m    6e  n    6f  o\r\n",
      "     70  p    71  q    72  r    73  s    74  t    75  u    76  v    77  w\r\n",
      "     78  x    79  y    7a  z    7b  {    7c  |    7d  }    7e  ~    7f del\r\n",
      "\r\n",
      "     The d\bde\bec\bci\bim\bma\bal\bl set:\r\n",
      "\r\n",
      "       0 nul    1 soh    2 stx    3 etx    4 eot    5 enq    6 ack    7 bel\r\n",
      "       8 bs     9 ht    10 nl    11 vt    12 np    13 cr    14 so    15 si\r\n",
      "      16 dle   17 dc1   18 dc2   19 dc3   20 dc4   21 nak   22 syn   23 etb\r\n",
      "      24 can   25 em    26 sub   27 esc   28 fs    29 gs    30 rs    31 us\r\n",
      "      32 sp    33  !    34  \"    35  #    36  $    37  %    38  &    39  '\r\n",
      "      40  (    41  )    42  *    43  +    44  ,    45  -    46  .    47  /\r\n",
      "      48  0    49  1    50  2    51  3    52  4    53  5    54  6    55  7\r\n",
      "      56  8    57  9    58  :    59  ;    60  <    61  =    62  >    63  ?\r\n",
      "      64  @    65  A    66  B    67  C    68  D    69  E    70  F    71  G\r\n",
      "      72  H    73  I    74  J    75  K    76  L    77  M    78  N    79  O\r\n",
      "      80  P    81  Q    82  R    83  S    84  T    85  U    86  V    87  W\r\n",
      "      88  X    89  Y    90  Z    91  [    92  \\    93  ]    94  ^    95  _\r\n",
      "      96  `    97  a    98  b    99  c   100  d   101  e   102  f   103  g\r\n",
      "     104  h   105  i   106  j   107  k   108  l   109  m   110  n   111  o\r\n",
      "     112  p   113  q   114  r   115  s   116  t   117  u   118  v   119  w\r\n",
      "     120  x   121  y   122  z   123  {   124  |   125  }   126  ~   127 del\r\n",
      "\r\n",
      "F\bFI\bIL\bLE\bES\bS\r\n",
      "     /usr/share/misc/ascii\r\n",
      "\r\n",
      "H\bHI\bIS\bST\bTO\bOR\bRY\bY\r\n",
      "     An a\bas\bsc\bci\bii\bi manual page appeared in Version 7 AT&T UNIX.\r\n",
      "\r\n",
      "BSD                              June 5, 1993                              BSD\r\n"
     ]
    }
   ],
   "source": [
    "!man ascii"
   ]
  },
  {
   "cell_type": "code",
   "execution_count": 45,
   "metadata": {},
   "outputs": [],
   "source": [
    "def add(a, b=10):\n",
    "    return a + b"
   ]
  },
  {
   "cell_type": "code",
   "execution_count": 46,
   "metadata": {},
   "outputs": [
    {
     "name": "stdout",
     "output_type": "stream",
     "text": [
      "  2           0 LOAD_FAST                0 (a)\n",
      "              2 LOAD_FAST                1 (b)\n",
      "              4 BINARY_ADD\n",
      "              6 RETURN_VALUE\n"
     ]
    }
   ],
   "source": [
    "dis.dis(add)"
   ]
  },
  {
   "cell_type": "code",
   "execution_count": 47,
   "metadata": {},
   "outputs": [
    {
     "data": {
      "text/plain": [
       "15"
      ]
     },
     "execution_count": 47,
     "metadata": {},
     "output_type": "execute_result"
    }
   ],
   "source": [
    "add(5)"
   ]
  },
  {
   "cell_type": "code",
   "execution_count": 48,
   "metadata": {},
   "outputs": [
    {
     "data": {
      "text/plain": [
       "b'|\\x00|\\x01\\x17\\x00S\\x00'"
      ]
     },
     "execution_count": 48,
     "metadata": {},
     "output_type": "execute_result"
    }
   ],
   "source": [
    "add.__code__.co_code"
   ]
  },
  {
   "cell_type": "code",
   "execution_count": 49,
   "metadata": {},
   "outputs": [
    {
     "data": {
      "text/plain": [
       "8"
      ]
     },
     "execution_count": 49,
     "metadata": {},
     "output_type": "execute_result"
    }
   ],
   "source": [
    "len(add.__code__.co_code)"
   ]
  },
  {
   "cell_type": "code",
   "execution_count": 50,
   "metadata": {},
   "outputs": [],
   "source": [
    "s = add.__code__.co_code\n"
   ]
  },
  {
   "cell_type": "code",
   "execution_count": 51,
   "metadata": {},
   "outputs": [
    {
     "data": {
      "text/plain": [
       "124"
      ]
     },
     "execution_count": 51,
     "metadata": {},
     "output_type": "execute_result"
    }
   ],
   "source": [
    "s[0]"
   ]
  },
  {
   "cell_type": "code",
   "execution_count": 56,
   "metadata": {},
   "outputs": [
    {
     "name": "stdout",
     "output_type": "stream",
     "text": [
      "0x7c\n",
      "0x0\n",
      "0x7c\n",
      "0x1\n",
      "0x17\n",
      "0x0\n",
      "0x53\n",
      "0x0\n"
     ]
    }
   ],
   "source": [
    "print('\\n'.join([hex(one_byte)\n",
    "                 for one_byte in add.__code__.co_code]))"
   ]
  },
  {
   "cell_type": "code",
   "execution_count": 57,
   "metadata": {},
   "outputs": [
    {
     "name": "stdout",
     "output_type": "stream",
     "text": [
      "0 0x7c\n",
      "1 0x0\n",
      "2 0x7c\n",
      "3 0x1\n",
      "4 0x17\n",
      "5 0x0\n",
      "6 0x53\n",
      "7 0x0\n"
     ]
    }
   ],
   "source": [
    "print('\\n'.join([f'{index} {hex(one_byte)}'\n",
    "                 for index, one_byte in enumerate(add.__code__.co_code)]))"
   ]
  },
  {
   "cell_type": "code",
   "execution_count": 58,
   "metadata": {},
   "outputs": [
    {
     "name": "stdout",
     "output_type": "stream",
     "text": [
      "  2           0 LOAD_FAST                0 (a)\n",
      "              2 LOAD_FAST                1 (b)\n",
      "              4 BINARY_ADD\n",
      "              6 RETURN_VALUE\n"
     ]
    }
   ],
   "source": [
    "dis.dis(add)"
   ]
  },
  {
   "cell_type": "code",
   "execution_count": 59,
   "metadata": {},
   "outputs": [],
   "source": [
    "def hello():\n",
    "    return 'Hello!'"
   ]
  },
  {
   "cell_type": "code",
   "execution_count": 60,
   "metadata": {},
   "outputs": [
    {
     "name": "stdout",
     "output_type": "stream",
     "text": [
      "  2           0 LOAD_CONST               1 ('Hello!')\n",
      "              2 RETURN_VALUE\n"
     ]
    }
   ],
   "source": [
    "dis.dis(hello)"
   ]
  },
  {
   "cell_type": "code",
   "execution_count": 62,
   "metadata": {},
   "outputs": [
    {
     "data": {
      "text/plain": [
       "(None, 'Hello!')"
      ]
     },
     "execution_count": 62,
     "metadata": {},
     "output_type": "execute_result"
    }
   ],
   "source": [
    "hello.__code__.co_consts"
   ]
  },
  {
   "cell_type": "code",
   "execution_count": 63,
   "metadata": {},
   "outputs": [],
   "source": [
    "def hello():\n",
    "    s = 'Hello!'\n",
    "    return s"
   ]
  },
  {
   "cell_type": "code",
   "execution_count": 64,
   "metadata": {},
   "outputs": [
    {
     "name": "stdout",
     "output_type": "stream",
     "text": [
      "  2           0 LOAD_CONST               1 ('Hello!')\n",
      "              2 STORE_FAST               0 (s)\n",
      "\n",
      "  3           4 LOAD_FAST                0 (s)\n",
      "              6 RETURN_VALUE\n"
     ]
    }
   ],
   "source": [
    "dis.dis(hello)"
   ]
  },
  {
   "cell_type": "code",
   "execution_count": 65,
   "metadata": {},
   "outputs": [
    {
     "data": {
      "text/plain": [
       "('s',)"
      ]
     },
     "execution_count": 65,
     "metadata": {},
     "output_type": "execute_result"
    }
   ],
   "source": [
    "hello.__code__.co_varnames"
   ]
  },
  {
   "cell_type": "code",
   "execution_count": 66,
   "metadata": {},
   "outputs": [],
   "source": [
    "def hello(name):\n",
    "    return f'Hello, {name}!'"
   ]
  },
  {
   "cell_type": "code",
   "execution_count": 67,
   "metadata": {},
   "outputs": [
    {
     "name": "stdout",
     "output_type": "stream",
     "text": [
      "  2           0 LOAD_CONST               1 ('Hello, ')\n",
      "              2 LOAD_FAST                0 (name)\n",
      "              4 FORMAT_VALUE             0\n",
      "              6 LOAD_CONST               2 ('!')\n",
      "              8 BUILD_STRING             3\n",
      "             10 RETURN_VALUE\n"
     ]
    }
   ],
   "source": [
    "dis.dis(hello)"
   ]
  },
  {
   "cell_type": "code",
   "execution_count": 68,
   "metadata": {},
   "outputs": [],
   "source": [
    "def hello(name):\n",
    "    print(f'Hello, {name}!')"
   ]
  },
  {
   "cell_type": "code",
   "execution_count": 69,
   "metadata": {},
   "outputs": [
    {
     "name": "stdout",
     "output_type": "stream",
     "text": [
      "  2           0 LOAD_GLOBAL              0 (print)\n",
      "              2 LOAD_CONST               1 ('Hello, ')\n",
      "              4 LOAD_FAST                0 (name)\n",
      "              6 FORMAT_VALUE             0\n",
      "              8 LOAD_CONST               2 ('!')\n",
      "             10 BUILD_STRING             3\n",
      "             12 CALL_FUNCTION            1\n",
      "             14 POP_TOP\n",
      "             16 LOAD_CONST               0 (None)\n",
      "             18 RETURN_VALUE\n"
     ]
    }
   ],
   "source": [
    "dis.dis(hello)"
   ]
  },
  {
   "cell_type": "code",
   "execution_count": 70,
   "metadata": {},
   "outputs": [],
   "source": [
    "def foo():\n",
    "    pass"
   ]
  },
  {
   "cell_type": "code",
   "execution_count": 71,
   "metadata": {},
   "outputs": [
    {
     "name": "stdout",
     "output_type": "stream",
     "text": [
      "  2           0 LOAD_CONST               0 (None)\n",
      "              2 RETURN_VALUE\n"
     ]
    }
   ],
   "source": [
    "dis.dis(foo)"
   ]
  },
  {
   "cell_type": "code",
   "execution_count": 72,
   "metadata": {},
   "outputs": [],
   "source": [
    "def foo():\n",
    "    return 1\n",
    "    return 2\n",
    "    return 3"
   ]
  },
  {
   "cell_type": "code",
   "execution_count": 73,
   "metadata": {},
   "outputs": [
    {
     "data": {
      "text/plain": [
       "1"
      ]
     },
     "execution_count": 73,
     "metadata": {},
     "output_type": "execute_result"
    }
   ],
   "source": [
    "foo()"
   ]
  },
  {
   "cell_type": "code",
   "execution_count": 74,
   "metadata": {},
   "outputs": [
    {
     "name": "stdout",
     "output_type": "stream",
     "text": [
      "  2           0 LOAD_CONST               1 (1)\n",
      "              2 RETURN_VALUE\n"
     ]
    }
   ],
   "source": [
    "dis.dis(foo)"
   ]
  },
  {
   "cell_type": "code",
   "execution_count": 75,
   "metadata": {},
   "outputs": [],
   "source": [
    "# what if we write a generator function?\n",
    "\n",
    "def foo():\n",
    "    yield 1\n",
    "    yield 2\n",
    "    yield 3"
   ]
  },
  {
   "cell_type": "code",
   "execution_count": 76,
   "metadata": {},
   "outputs": [
    {
     "data": {
      "text/plain": [
       "<generator object foo at 0x113cd5740>"
      ]
     },
     "execution_count": 76,
     "metadata": {},
     "output_type": "execute_result"
    }
   ],
   "source": [
    "foo()"
   ]
  },
  {
   "cell_type": "code",
   "execution_count": 77,
   "metadata": {},
   "outputs": [
    {
     "name": "stdout",
     "output_type": "stream",
     "text": [
      "Name:              foo\n",
      "Filename:          <ipython-input-75-69abb6344bdb>\n",
      "Argument count:    0\n",
      "Positional-only arguments: 0\n",
      "Kw-only arguments: 0\n",
      "Number of locals:  0\n",
      "Stack size:        1\n",
      "Flags:             OPTIMIZED, NEWLOCALS, GENERATOR, NOFREE\n",
      "Constants:\n",
      "   0: None\n",
      "   1: 1\n",
      "   2: 2\n",
      "   3: 3\n"
     ]
    }
   ],
   "source": [
    "dis.show_code(foo)"
   ]
  },
  {
   "cell_type": "code",
   "execution_count": 78,
   "metadata": {},
   "outputs": [
    {
     "name": "stdout",
     "output_type": "stream",
     "text": [
      "Name:              foo\n",
      "Filename:          <ipython-input-78-7c8836cd1af1>\n",
      "Argument count:    0\n",
      "Positional-only arguments: 0\n",
      "Kw-only arguments: 0\n",
      "Number of locals:  0\n",
      "Stack size:        1\n",
      "Flags:             OPTIMIZED, NEWLOCALS, NOFREE\n",
      "Constants:\n",
      "   0: None\n",
      "   1: 1\n",
      "   2: 2\n",
      "   3: 3\n"
     ]
    }
   ],
   "source": [
    "def foo():\n",
    "    return 1\n",
    "    return 2\n",
    "    return 3\n",
    "\n",
    "dis.show_code(foo)"
   ]
  },
  {
   "cell_type": "code",
   "execution_count": 79,
   "metadata": {},
   "outputs": [
    {
     "data": {
      "text/plain": [
       "67"
      ]
     },
     "execution_count": 79,
     "metadata": {},
     "output_type": "execute_result"
    }
   ],
   "source": [
    "foo.__code__.co_flags"
   ]
  },
  {
   "cell_type": "code",
   "execution_count": 80,
   "metadata": {},
   "outputs": [
    {
     "data": {
      "text/plain": [
       "'0b1000011'"
      ]
     },
     "execution_count": 80,
     "metadata": {},
     "output_type": "execute_result"
    }
   ],
   "source": [
    "bin(foo.__code__.co_flags)"
   ]
  },
  {
   "cell_type": "code",
   "execution_count": 81,
   "metadata": {},
   "outputs": [
    {
     "data": {
      "text/plain": [
       "99"
      ]
     },
     "execution_count": 81,
     "metadata": {},
     "output_type": "execute_result"
    }
   ],
   "source": [
    "def foo():\n",
    "    yield 1\n",
    "    yield 2\n",
    "    yield 3\n",
    "    \n",
    "foo.__code__.co_flags"
   ]
  },
  {
   "cell_type": "code",
   "execution_count": 82,
   "metadata": {},
   "outputs": [
    {
     "data": {
      "text/plain": [
       "'0b1100011'"
      ]
     },
     "execution_count": 82,
     "metadata": {},
     "output_type": "execute_result"
    }
   ],
   "source": [
    "bin(foo.__code__.co_flags)"
   ]
  },
  {
   "cell_type": "code",
   "execution_count": 83,
   "metadata": {},
   "outputs": [],
   "source": [
    "def foo(a, b, args):  # no, not *args\n",
    "    return f'{a=} {b=} {args=}'   # as of Python 3.8, this prints varname=value"
   ]
  },
  {
   "cell_type": "code",
   "execution_count": 84,
   "metadata": {},
   "outputs": [
    {
     "data": {
      "text/plain": [
       "'a=10 b=20 args=30'"
      ]
     },
     "execution_count": 84,
     "metadata": {},
     "output_type": "execute_result"
    }
   ],
   "source": [
    "foo(10, 20, 30)"
   ]
  },
  {
   "cell_type": "code",
   "execution_count": 85,
   "metadata": {},
   "outputs": [
    {
     "ename": "TypeError",
     "evalue": "foo() takes 3 positional arguments but 5 were given",
     "output_type": "error",
     "traceback": [
      "\u001b[0;31m---------------------------------------------------------------------------\u001b[0m",
      "\u001b[0;31mTypeError\u001b[0m                                 Traceback (most recent call last)",
      "\u001b[0;32m<ipython-input-85-8b8cbcd6a182>\u001b[0m in \u001b[0;36m<module>\u001b[0;34m\u001b[0m\n\u001b[0;32m----> 1\u001b[0;31m \u001b[0mfoo\u001b[0m\u001b[0;34m(\u001b[0m\u001b[0;36m10\u001b[0m\u001b[0;34m,\u001b[0m \u001b[0;36m20\u001b[0m\u001b[0;34m,\u001b[0m \u001b[0;36m30\u001b[0m\u001b[0;34m,\u001b[0m \u001b[0;36m40\u001b[0m \u001b[0;34m,\u001b[0m\u001b[0;36m50\u001b[0m\u001b[0;34m)\u001b[0m\u001b[0;34m\u001b[0m\u001b[0;34m\u001b[0m\u001b[0m\n\u001b[0m",
      "\u001b[0;31mTypeError\u001b[0m: foo() takes 3 positional arguments but 5 were given"
     ]
    }
   ],
   "source": [
    "foo(10, 20, 30, 40 ,50)"
   ]
  },
  {
   "cell_type": "code",
   "execution_count": 86,
   "metadata": {},
   "outputs": [
    {
     "data": {
      "text/plain": [
       "('a', 'b', 'args')"
      ]
     },
     "execution_count": 86,
     "metadata": {},
     "output_type": "execute_result"
    }
   ],
   "source": [
    "foo.__code__.co_varnames"
   ]
  },
  {
   "cell_type": "code",
   "execution_count": 87,
   "metadata": {},
   "outputs": [
    {
     "data": {
      "text/plain": [
       "3"
      ]
     },
     "execution_count": 87,
     "metadata": {},
     "output_type": "execute_result"
    }
   ],
   "source": [
    "foo.__code__.co_argcount"
   ]
  },
  {
   "cell_type": "code",
   "execution_count": 88,
   "metadata": {},
   "outputs": [],
   "source": [
    "def foo(a, b, *args):  # *args means: args will absorb all unclaimed positional args\n",
    "    return f'{a=} {b=} {args=}'   # as of Python 3.8, this prints varname=value"
   ]
  },
  {
   "cell_type": "code",
   "execution_count": 89,
   "metadata": {},
   "outputs": [
    {
     "data": {
      "text/plain": [
       "'a=10 b=20 args=(30, 40, 50)'"
      ]
     },
     "execution_count": 89,
     "metadata": {},
     "output_type": "execute_result"
    }
   ],
   "source": [
    "foo(10, 20, 30, 40, 50)"
   ]
  },
  {
   "cell_type": "code",
   "execution_count": 90,
   "metadata": {},
   "outputs": [
    {
     "data": {
      "text/plain": [
       "('a', 'b', 'args')"
      ]
     },
     "execution_count": 90,
     "metadata": {},
     "output_type": "execute_result"
    }
   ],
   "source": [
    "foo.__code__.co_varnames"
   ]
  },
  {
   "cell_type": "code",
   "execution_count": 91,
   "metadata": {},
   "outputs": [
    {
     "data": {
      "text/plain": [
       "2"
      ]
     },
     "execution_count": 91,
     "metadata": {},
     "output_type": "execute_result"
    }
   ],
   "source": [
    "foo.__code__.co_argcount"
   ]
  },
  {
   "cell_type": "code",
   "execution_count": 92,
   "metadata": {},
   "outputs": [
    {
     "name": "stdout",
     "output_type": "stream",
     "text": [
      "Name:              foo\n",
      "Filename:          <ipython-input-88-c62c1e106685>\n",
      "Argument count:    2\n",
      "Positional-only arguments: 0\n",
      "Kw-only arguments: 0\n",
      "Number of locals:  3\n",
      "Stack size:        6\n",
      "Flags:             OPTIMIZED, NEWLOCALS, VARARGS, NOFREE\n",
      "Constants:\n",
      "   0: None\n",
      "   1: 'a='\n",
      "   2: ' b='\n",
      "   3: ' args='\n",
      "Variable names:\n",
      "   0: a\n",
      "   1: b\n",
      "   2: args\n"
     ]
    }
   ],
   "source": [
    "dis.show_code(foo)"
   ]
  },
  {
   "cell_type": "code",
   "execution_count": 93,
   "metadata": {},
   "outputs": [],
   "source": [
    "def foo(a, b, **kwargs):  # **kwargs means: take keyword args (name=value), stick in a dict\n",
    "    return f'{a=} {b=} {kwargs=}'   # as of Python 3.8, this prints varname=value"
   ]
  },
  {
   "cell_type": "code",
   "execution_count": 94,
   "metadata": {},
   "outputs": [
    {
     "data": {
      "text/plain": [
       "\"a=10 b=20 kwargs={'x': 100, 'y': 200, 'z': 300}\""
      ]
     },
     "execution_count": 94,
     "metadata": {},
     "output_type": "execute_result"
    }
   ],
   "source": [
    "foo(10, 20, x=100, y=200, z= 300)"
   ]
  },
  {
   "cell_type": "code",
   "execution_count": 95,
   "metadata": {},
   "outputs": [
    {
     "name": "stdout",
     "output_type": "stream",
     "text": [
      "Name:              foo\n",
      "Filename:          <ipython-input-93-832e88877f99>\n",
      "Argument count:    2\n",
      "Positional-only arguments: 0\n",
      "Kw-only arguments: 0\n",
      "Number of locals:  3\n",
      "Stack size:        6\n",
      "Flags:             OPTIMIZED, NEWLOCALS, VARKEYWORDS, NOFREE\n",
      "Constants:\n",
      "   0: None\n",
      "   1: 'a='\n",
      "   2: ' b='\n",
      "   3: ' kwargs='\n",
      "Variable names:\n",
      "   0: a\n",
      "   1: b\n",
      "   2: kwargs\n"
     ]
    }
   ],
   "source": [
    "dis.show_code(foo)"
   ]
  },
  {
   "cell_type": "code",
   "execution_count": 96,
   "metadata": {},
   "outputs": [
    {
     "ename": "NameError",
     "evalue": "name 'x' is not defined",
     "output_type": "error",
     "traceback": [
      "\u001b[0;31m---------------------------------------------------------------------------\u001b[0m",
      "\u001b[0;31mNameError\u001b[0m                                 Traceback (most recent call last)",
      "\u001b[0;32m<ipython-input-96-240b5e90c163>\u001b[0m in \u001b[0;36m<module>\u001b[0;34m\u001b[0m\n\u001b[0;32m----> 1\u001b[0;31m \u001b[0;32mdel\u001b[0m\u001b[0;34m(\u001b[0m\u001b[0mx\u001b[0m\u001b[0;34m)\u001b[0m\u001b[0;34m\u001b[0m\u001b[0;34m\u001b[0m\u001b[0m\n\u001b[0m",
      "\u001b[0;31mNameError\u001b[0m: name 'x' is not defined"
     ]
    }
   ],
   "source": [
    "del(x)"
   ]
  },
  {
   "cell_type": "code",
   "execution_count": 98,
   "metadata": {},
   "outputs": [
    {
     "name": "stdout",
     "output_type": "stream",
     "text": [
      "0\n",
      "1\n",
      "2\n",
      "3\n",
      "4\n",
      "5\n",
      "6\n",
      "7\n",
      "8\n",
      "9\n"
     ]
    }
   ],
   "source": [
    "for i in range(10):\n",
    "    print(i)"
   ]
  },
  {
   "cell_type": "code",
   "execution_count": 99,
   "metadata": {},
   "outputs": [
    {
     "name": "stdout",
     "output_type": "stream",
     "text": [
      "9\n"
     ]
    }
   ],
   "source": [
    "print(i)"
   ]
  },
  {
   "cell_type": "code",
   "execution_count": null,
   "metadata": {},
   "outputs": [],
   "source": []
  },
  {
   "cell_type": "code",
   "execution_count": 97,
   "metadata": {},
   "outputs": [
    {
     "name": "stdout",
     "output_type": "stream",
     "text": [
      "x=100\n"
     ]
    }
   ],
   "source": [
    "# LEGB -\n",
    "\n",
    "# Local\n",
    "# Enclosing  \n",
    "# Global  (start here outside of functions)\n",
    "# Builtins\n",
    "\n",
    "\n",
    "x = 100\n",
    "\n",
    "print(f'{x=}')"
   ]
  },
  {
   "cell_type": "code",
   "execution_count": 100,
   "metadata": {
    "collapsed": true
   },
   "outputs": [
    {
     "data": {
      "text/plain": [
       "{'__name__': '__main__',\n",
       " '__doc__': 'Automatically created module for IPython interactive environment',\n",
       " '__package__': None,\n",
       " '__loader__': None,\n",
       " '__spec__': None,\n",
       " '__builtin__': <module 'builtins' (built-in)>,\n",
       " '__builtins__': <module 'builtins' (built-in)>,\n",
       " '_ih': ['',\n",
       "  '# compiled languages -- C, C++\\n\\n# byte-compiled languages -- Java, C# (.NET), Python \\n\\n# interpreted languages -- bash, Tcl',\n",
       "  \"def hello(name):\\n    return f'Hello, {name}!'\",\n",
       "  \"hello('world')\",\n",
       "  'hello()',\n",
       "  'dir(hello)',\n",
       "  'hello.__code__',\n",
       "  'dir(hello.__code__)',\n",
       "  'hello()',\n",
       "  'hello.__code__.co_argcount',\n",
       "  'def add(a, b):\\n    return a + b\\n\\nadd.__code__.co_argcount',\n",
       "  'add.__code__.co_varnames',\n",
       "  'hello.__code__.co_varnames',\n",
       "  \"def hello(name):\\n    s = f'Hello, {name}!'\\n    return s\",\n",
       "  'hello.__code__.co_argcount',\n",
       "  'hello.__code__.co_varnames',\n",
       "  'hello()',\n",
       "  'add()',\n",
       "  'add(10)',\n",
       "  'def add(a, b=10):\\n    return a + b',\n",
       "  'add(50, 60)',\n",
       "  'add(50)',\n",
       "  'add.__code__.co_argcount',\n",
       "  'add.__defaults__',\n",
       "  'def add(a, b):\\n    return a + b',\n",
       "  'def add(a, b=10):\\n    return a + b',\n",
       "  'add.__code__.co_argcount',\n",
       "  'add.__code__.co_varnames',\n",
       "  'add.__defaults)__',\n",
       "  'add.__defaults__',\n",
       "  'def foo(a, b=2, c=3, d=4):\\n    return a + b + c + d\\n\\nfoo.__code__.co_argcount',\n",
       "  'foo(10, 20, 30)',\n",
       "  'foo.__defaults__',\n",
       "  'foo.__code__.co_varnames',\n",
       "  'def add(a, b):\\n    return a + b',\n",
       "  'add.__code__.co_code',\n",
       "  'import dis',\n",
       "  'import dis  # in the standard library, \"disassembly\" module',\n",
       "  'dis.dis(add)',\n",
       "  'add.__code__.co_varnames',\n",
       "  '# PyPy -- JIT compiled version of Python',\n",
       "  '0x17',\n",
       "  'chr(0x17)',\n",
       "  'print(chr(0x17))',\n",
       "  \"get_ipython().system('man ascii')\",\n",
       "  'def add(a, b=10):\\n    return a + b',\n",
       "  'dis.dis(add)',\n",
       "  'add(5)',\n",
       "  'add.__code__.co_code',\n",
       "  'len(add.__code__.co_code)',\n",
       "  's = add.__code__.co_code',\n",
       "  's[0]',\n",
       "  '[hex(one_byte)\\none_byte in add.__code__.co_code]',\n",
       "  '[hex(one_byte)\\n one_byte in add.__code__.co_code]',\n",
       "  '[hex(one_byte)\\n for one_byte in add.__code__.co_code]',\n",
       "  \"print('\\\\n'.join([hex(one_byte)\\n                 for one_byte in add.__code__.co_code])\",\n",
       "  \"print('\\\\n'.join([hex(one_byte)\\n                 for one_byte in add.__code__.co_code]))\",\n",
       "  \"print('\\\\n'.join([f'{index} {hex(one_byte)}'\\n                 for index, one_byte in enumerate(add.__code__.co_code)]))\",\n",
       "  'dis.dis(add)',\n",
       "  \"def hello():\\n    return 'Hello!'\",\n",
       "  'dis.dis(hello)',\n",
       "  'hello.__code__.co_const',\n",
       "  'hello.__code__.co_consts',\n",
       "  \"def hello():\\n    s = 'Hello!'\\n    return s\",\n",
       "  'dis.dis(hello)',\n",
       "  'hello.__code__.co_varnames',\n",
       "  \"def hello(name):\\n    return f'Hello, {name}!'\",\n",
       "  'dis.dis(hello)',\n",
       "  \"def hello(name):\\n    print(f'Hello, {name}!')\",\n",
       "  'dis.dis(hello)',\n",
       "  'def foo():\\n    pass',\n",
       "  'dis.dis(foo)',\n",
       "  'def foo():\\n    return 1\\n    return 2\\n    return 3',\n",
       "  'foo()',\n",
       "  'dis.dis(foo)',\n",
       "  '# what if we write a generator function?\\n\\ndef foo():\\n    yield 1\\n    yield 2\\n    yield 3',\n",
       "  'foo()',\n",
       "  'dis.show_code(foo)',\n",
       "  'def foo():\\n    return 1\\n    return 2\\n    return 3\\n\\ndis.show_code(foo)',\n",
       "  'foo.__code__.co_flags',\n",
       "  'bin(foo.__code__.co_flags)',\n",
       "  'def foo():\\n    yield 1\\n    yield 2\\n    yield 3\\n    \\nfoo.__code__.co_flags',\n",
       "  'bin(foo.__code__.co_flags)',\n",
       "  \"def foo(a, b, args):  # no, not *args\\n    return f'{a=} {b=} {args=}'   # as of Python 3.8, this prints varname=value\",\n",
       "  'foo(10, 20, 30)',\n",
       "  'foo(10, 20, 30, 40 ,50)',\n",
       "  'foo.__code__.co_varnames',\n",
       "  'foo.__code__.co_argcount',\n",
       "  \"def foo(a, b, *args):  # *args means: args will absorb all unclaimed positional args\\n    return f'{a=} {b=} {args=}'   # as of Python 3.8, this prints varname=value\",\n",
       "  'foo(10, 20, 30, 40, 50)',\n",
       "  'foo.__code__.co_varnames',\n",
       "  'foo.__code__.co_argcount',\n",
       "  'dis.show_code(foo)',\n",
       "  \"def foo(a, b, **kwargs):  # **kwargs means: take keyword args (name=value), stick in a dict\\n    return f'{a=} {b=} {kwargs=}'   # as of Python 3.8, this prints varname=value\",\n",
       "  'foo(10, 20, x=100, y=200, z= 300)',\n",
       "  'dis.show_code(foo)',\n",
       "  'del(x)',\n",
       "  \"x = 100\\n\\nprint(f'{x=}')\",\n",
       "  'for i in range(10):\\n    print(i)',\n",
       "  'print(i)',\n",
       "  'globals() '],\n",
       " '_oh': {3: 'Hello, world!',\n",
       "  5: ['__annotations__',\n",
       "   '__call__',\n",
       "   '__class__',\n",
       "   '__closure__',\n",
       "   '__code__',\n",
       "   '__defaults__',\n",
       "   '__delattr__',\n",
       "   '__dict__',\n",
       "   '__dir__',\n",
       "   '__doc__',\n",
       "   '__eq__',\n",
       "   '__format__',\n",
       "   '__ge__',\n",
       "   '__get__',\n",
       "   '__getattribute__',\n",
       "   '__globals__',\n",
       "   '__gt__',\n",
       "   '__hash__',\n",
       "   '__init__',\n",
       "   '__init_subclass__',\n",
       "   '__kwdefaults__',\n",
       "   '__le__',\n",
       "   '__lt__',\n",
       "   '__module__',\n",
       "   '__name__',\n",
       "   '__ne__',\n",
       "   '__new__',\n",
       "   '__qualname__',\n",
       "   '__reduce__',\n",
       "   '__reduce_ex__',\n",
       "   '__repr__',\n",
       "   '__setattr__',\n",
       "   '__sizeof__',\n",
       "   '__str__',\n",
       "   '__subclasshook__'],\n",
       "  6: <code object hello at 0x110e45190, file \"<ipython-input-2-5a23b52c8aa5>\", line 1>,\n",
       "  7: ['__class__',\n",
       "   '__delattr__',\n",
       "   '__dir__',\n",
       "   '__doc__',\n",
       "   '__eq__',\n",
       "   '__format__',\n",
       "   '__ge__',\n",
       "   '__getattribute__',\n",
       "   '__gt__',\n",
       "   '__hash__',\n",
       "   '__init__',\n",
       "   '__init_subclass__',\n",
       "   '__le__',\n",
       "   '__lt__',\n",
       "   '__ne__',\n",
       "   '__new__',\n",
       "   '__reduce__',\n",
       "   '__reduce_ex__',\n",
       "   '__repr__',\n",
       "   '__setattr__',\n",
       "   '__sizeof__',\n",
       "   '__str__',\n",
       "   '__subclasshook__',\n",
       "   'co_argcount',\n",
       "   'co_cellvars',\n",
       "   'co_code',\n",
       "   'co_consts',\n",
       "   'co_filename',\n",
       "   'co_firstlineno',\n",
       "   'co_flags',\n",
       "   'co_freevars',\n",
       "   'co_kwonlyargcount',\n",
       "   'co_lnotab',\n",
       "   'co_name',\n",
       "   'co_names',\n",
       "   'co_nlocals',\n",
       "   'co_posonlyargcount',\n",
       "   'co_stacksize',\n",
       "   'co_varnames',\n",
       "   'replace'],\n",
       "  9: 1,\n",
       "  10: 2,\n",
       "  11: ('a', 'b'),\n",
       "  12: ('name',),\n",
       "  14: 1,\n",
       "  15: ('name', 's'),\n",
       "  20: 110,\n",
       "  21: 60,\n",
       "  22: 2,\n",
       "  23: (10,),\n",
       "  26: 2,\n",
       "  27: ('a', 'b'),\n",
       "  29: (10,),\n",
       "  30: 4,\n",
       "  31: 64,\n",
       "  32: (2, 3, 4),\n",
       "  33: ('a', 'b', 'c', 'd'),\n",
       "  35: b'|\\x00|\\x01\\x17\\x00S\\x00',\n",
       "  39: ('a', 'b'),\n",
       "  41: 23,\n",
       "  42: '\\x17',\n",
       "  47: 15,\n",
       "  48: b'|\\x00|\\x01\\x17\\x00S\\x00',\n",
       "  49: 8,\n",
       "  51: 124,\n",
       "  54: ['0x7c', '0x0', '0x7c', '0x1', '0x17', '0x0', '0x53', '0x0'],\n",
       "  62: (None, 'Hello!'),\n",
       "  65: ('s',),\n",
       "  73: 1,\n",
       "  76: <generator object foo at 0x113cd5740>,\n",
       "  79: 67,\n",
       "  80: '0b1000011',\n",
       "  81: 99,\n",
       "  82: '0b1100011',\n",
       "  84: 'a=10 b=20 args=30',\n",
       "  86: ('a', 'b', 'args'),\n",
       "  87: 3,\n",
       "  89: 'a=10 b=20 args=(30, 40, 50)',\n",
       "  90: ('a', 'b', 'args'),\n",
       "  91: 2,\n",
       "  94: \"a=10 b=20 kwargs={'x': 100, 'y': 200, 'z': 300}\"},\n",
       " '_dh': ['/Users/reuven/Consulting/Courses/cisco-bytecodes-2020-sep-10'],\n",
       " 'In': ['',\n",
       "  '# compiled languages -- C, C++\\n\\n# byte-compiled languages -- Java, C# (.NET), Python \\n\\n# interpreted languages -- bash, Tcl',\n",
       "  \"def hello(name):\\n    return f'Hello, {name}!'\",\n",
       "  \"hello('world')\",\n",
       "  'hello()',\n",
       "  'dir(hello)',\n",
       "  'hello.__code__',\n",
       "  'dir(hello.__code__)',\n",
       "  'hello()',\n",
       "  'hello.__code__.co_argcount',\n",
       "  'def add(a, b):\\n    return a + b\\n\\nadd.__code__.co_argcount',\n",
       "  'add.__code__.co_varnames',\n",
       "  'hello.__code__.co_varnames',\n",
       "  \"def hello(name):\\n    s = f'Hello, {name}!'\\n    return s\",\n",
       "  'hello.__code__.co_argcount',\n",
       "  'hello.__code__.co_varnames',\n",
       "  'hello()',\n",
       "  'add()',\n",
       "  'add(10)',\n",
       "  'def add(a, b=10):\\n    return a + b',\n",
       "  'add(50, 60)',\n",
       "  'add(50)',\n",
       "  'add.__code__.co_argcount',\n",
       "  'add.__defaults__',\n",
       "  'def add(a, b):\\n    return a + b',\n",
       "  'def add(a, b=10):\\n    return a + b',\n",
       "  'add.__code__.co_argcount',\n",
       "  'add.__code__.co_varnames',\n",
       "  'add.__defaults)__',\n",
       "  'add.__defaults__',\n",
       "  'def foo(a, b=2, c=3, d=4):\\n    return a + b + c + d\\n\\nfoo.__code__.co_argcount',\n",
       "  'foo(10, 20, 30)',\n",
       "  'foo.__defaults__',\n",
       "  'foo.__code__.co_varnames',\n",
       "  'def add(a, b):\\n    return a + b',\n",
       "  'add.__code__.co_code',\n",
       "  'import dis',\n",
       "  'import dis  # in the standard library, \"disassembly\" module',\n",
       "  'dis.dis(add)',\n",
       "  'add.__code__.co_varnames',\n",
       "  '# PyPy -- JIT compiled version of Python',\n",
       "  '0x17',\n",
       "  'chr(0x17)',\n",
       "  'print(chr(0x17))',\n",
       "  \"get_ipython().system('man ascii')\",\n",
       "  'def add(a, b=10):\\n    return a + b',\n",
       "  'dis.dis(add)',\n",
       "  'add(5)',\n",
       "  'add.__code__.co_code',\n",
       "  'len(add.__code__.co_code)',\n",
       "  's = add.__code__.co_code',\n",
       "  's[0]',\n",
       "  '[hex(one_byte)\\none_byte in add.__code__.co_code]',\n",
       "  '[hex(one_byte)\\n one_byte in add.__code__.co_code]',\n",
       "  '[hex(one_byte)\\n for one_byte in add.__code__.co_code]',\n",
       "  \"print('\\\\n'.join([hex(one_byte)\\n                 for one_byte in add.__code__.co_code])\",\n",
       "  \"print('\\\\n'.join([hex(one_byte)\\n                 for one_byte in add.__code__.co_code]))\",\n",
       "  \"print('\\\\n'.join([f'{index} {hex(one_byte)}'\\n                 for index, one_byte in enumerate(add.__code__.co_code)]))\",\n",
       "  'dis.dis(add)',\n",
       "  \"def hello():\\n    return 'Hello!'\",\n",
       "  'dis.dis(hello)',\n",
       "  'hello.__code__.co_const',\n",
       "  'hello.__code__.co_consts',\n",
       "  \"def hello():\\n    s = 'Hello!'\\n    return s\",\n",
       "  'dis.dis(hello)',\n",
       "  'hello.__code__.co_varnames',\n",
       "  \"def hello(name):\\n    return f'Hello, {name}!'\",\n",
       "  'dis.dis(hello)',\n",
       "  \"def hello(name):\\n    print(f'Hello, {name}!')\",\n",
       "  'dis.dis(hello)',\n",
       "  'def foo():\\n    pass',\n",
       "  'dis.dis(foo)',\n",
       "  'def foo():\\n    return 1\\n    return 2\\n    return 3',\n",
       "  'foo()',\n",
       "  'dis.dis(foo)',\n",
       "  '# what if we write a generator function?\\n\\ndef foo():\\n    yield 1\\n    yield 2\\n    yield 3',\n",
       "  'foo()',\n",
       "  'dis.show_code(foo)',\n",
       "  'def foo():\\n    return 1\\n    return 2\\n    return 3\\n\\ndis.show_code(foo)',\n",
       "  'foo.__code__.co_flags',\n",
       "  'bin(foo.__code__.co_flags)',\n",
       "  'def foo():\\n    yield 1\\n    yield 2\\n    yield 3\\n    \\nfoo.__code__.co_flags',\n",
       "  'bin(foo.__code__.co_flags)',\n",
       "  \"def foo(a, b, args):  # no, not *args\\n    return f'{a=} {b=} {args=}'   # as of Python 3.8, this prints varname=value\",\n",
       "  'foo(10, 20, 30)',\n",
       "  'foo(10, 20, 30, 40 ,50)',\n",
       "  'foo.__code__.co_varnames',\n",
       "  'foo.__code__.co_argcount',\n",
       "  \"def foo(a, b, *args):  # *args means: args will absorb all unclaimed positional args\\n    return f'{a=} {b=} {args=}'   # as of Python 3.8, this prints varname=value\",\n",
       "  'foo(10, 20, 30, 40, 50)',\n",
       "  'foo.__code__.co_varnames',\n",
       "  'foo.__code__.co_argcount',\n",
       "  'dis.show_code(foo)',\n",
       "  \"def foo(a, b, **kwargs):  # **kwargs means: take keyword args (name=value), stick in a dict\\n    return f'{a=} {b=} {kwargs=}'   # as of Python 3.8, this prints varname=value\",\n",
       "  'foo(10, 20, x=100, y=200, z= 300)',\n",
       "  'dis.show_code(foo)',\n",
       "  'del(x)',\n",
       "  \"x = 100\\n\\nprint(f'{x=}')\",\n",
       "  'for i in range(10):\\n    print(i)',\n",
       "  'print(i)',\n",
       "  'globals() '],\n",
       " 'Out': {3: 'Hello, world!',\n",
       "  5: ['__annotations__',\n",
       "   '__call__',\n",
       "   '__class__',\n",
       "   '__closure__',\n",
       "   '__code__',\n",
       "   '__defaults__',\n",
       "   '__delattr__',\n",
       "   '__dict__',\n",
       "   '__dir__',\n",
       "   '__doc__',\n",
       "   '__eq__',\n",
       "   '__format__',\n",
       "   '__ge__',\n",
       "   '__get__',\n",
       "   '__getattribute__',\n",
       "   '__globals__',\n",
       "   '__gt__',\n",
       "   '__hash__',\n",
       "   '__init__',\n",
       "   '__init_subclass__',\n",
       "   '__kwdefaults__',\n",
       "   '__le__',\n",
       "   '__lt__',\n",
       "   '__module__',\n",
       "   '__name__',\n",
       "   '__ne__',\n",
       "   '__new__',\n",
       "   '__qualname__',\n",
       "   '__reduce__',\n",
       "   '__reduce_ex__',\n",
       "   '__repr__',\n",
       "   '__setattr__',\n",
       "   '__sizeof__',\n",
       "   '__str__',\n",
       "   '__subclasshook__'],\n",
       "  6: <code object hello at 0x110e45190, file \"<ipython-input-2-5a23b52c8aa5>\", line 1>,\n",
       "  7: ['__class__',\n",
       "   '__delattr__',\n",
       "   '__dir__',\n",
       "   '__doc__',\n",
       "   '__eq__',\n",
       "   '__format__',\n",
       "   '__ge__',\n",
       "   '__getattribute__',\n",
       "   '__gt__',\n",
       "   '__hash__',\n",
       "   '__init__',\n",
       "   '__init_subclass__',\n",
       "   '__le__',\n",
       "   '__lt__',\n",
       "   '__ne__',\n",
       "   '__new__',\n",
       "   '__reduce__',\n",
       "   '__reduce_ex__',\n",
       "   '__repr__',\n",
       "   '__setattr__',\n",
       "   '__sizeof__',\n",
       "   '__str__',\n",
       "   '__subclasshook__',\n",
       "   'co_argcount',\n",
       "   'co_cellvars',\n",
       "   'co_code',\n",
       "   'co_consts',\n",
       "   'co_filename',\n",
       "   'co_firstlineno',\n",
       "   'co_flags',\n",
       "   'co_freevars',\n",
       "   'co_kwonlyargcount',\n",
       "   'co_lnotab',\n",
       "   'co_name',\n",
       "   'co_names',\n",
       "   'co_nlocals',\n",
       "   'co_posonlyargcount',\n",
       "   'co_stacksize',\n",
       "   'co_varnames',\n",
       "   'replace'],\n",
       "  9: 1,\n",
       "  10: 2,\n",
       "  11: ('a', 'b'),\n",
       "  12: ('name',),\n",
       "  14: 1,\n",
       "  15: ('name', 's'),\n",
       "  20: 110,\n",
       "  21: 60,\n",
       "  22: 2,\n",
       "  23: (10,),\n",
       "  26: 2,\n",
       "  27: ('a', 'b'),\n",
       "  29: (10,),\n",
       "  30: 4,\n",
       "  31: 64,\n",
       "  32: (2, 3, 4),\n",
       "  33: ('a', 'b', 'c', 'd'),\n",
       "  35: b'|\\x00|\\x01\\x17\\x00S\\x00',\n",
       "  39: ('a', 'b'),\n",
       "  41: 23,\n",
       "  42: '\\x17',\n",
       "  47: 15,\n",
       "  48: b'|\\x00|\\x01\\x17\\x00S\\x00',\n",
       "  49: 8,\n",
       "  51: 124,\n",
       "  54: ['0x7c', '0x0', '0x7c', '0x1', '0x17', '0x0', '0x53', '0x0'],\n",
       "  62: (None, 'Hello!'),\n",
       "  65: ('s',),\n",
       "  73: 1,\n",
       "  76: <generator object foo at 0x113cd5740>,\n",
       "  79: 67,\n",
       "  80: '0b1000011',\n",
       "  81: 99,\n",
       "  82: '0b1100011',\n",
       "  84: 'a=10 b=20 args=30',\n",
       "  86: ('a', 'b', 'args'),\n",
       "  87: 3,\n",
       "  89: 'a=10 b=20 args=(30, 40, 50)',\n",
       "  90: ('a', 'b', 'args'),\n",
       "  91: 2,\n",
       "  94: \"a=10 b=20 kwargs={'x': 100, 'y': 200, 'z': 300}\"},\n",
       " 'get_ipython': <bound method InteractiveShell.get_ipython of <ipykernel.zmqshell.ZMQInteractiveShell object at 0x110ca9ac0>>,\n",
       " 'exit': <IPython.core.autocall.ZMQExitAutocall at 0x110d80fa0>,\n",
       " 'quit': <IPython.core.autocall.ZMQExitAutocall at 0x110d80fa0>,\n",
       " '_': \"a=10 b=20 kwargs={'x': 100, 'y': 200, 'z': 300}\",\n",
       " '__': 2,\n",
       " '___': ('a', 'b', 'args'),\n",
       " '_i': 'print(i)',\n",
       " '_ii': 'for i in range(10):\\n    print(i)',\n",
       " '_iii': \"x = 100\\n\\nprint(f'{x=}')\",\n",
       " '_i1': '# compiled languages -- C, C++\\n\\n# byte-compiled languages -- Java, C# (.NET), Python \\n\\n# interpreted languages -- bash, Tcl',\n",
       " '_i2': \"def hello(name):\\n    return f'Hello, {name}!'\",\n",
       " 'hello': <function __main__.hello(name)>,\n",
       " '_i3': \"hello('world')\",\n",
       " '_3': 'Hello, world!',\n",
       " '_i4': 'hello()',\n",
       " '_i5': 'dir(hello)',\n",
       " '_5': ['__annotations__',\n",
       "  '__call__',\n",
       "  '__class__',\n",
       "  '__closure__',\n",
       "  '__code__',\n",
       "  '__defaults__',\n",
       "  '__delattr__',\n",
       "  '__dict__',\n",
       "  '__dir__',\n",
       "  '__doc__',\n",
       "  '__eq__',\n",
       "  '__format__',\n",
       "  '__ge__',\n",
       "  '__get__',\n",
       "  '__getattribute__',\n",
       "  '__globals__',\n",
       "  '__gt__',\n",
       "  '__hash__',\n",
       "  '__init__',\n",
       "  '__init_subclass__',\n",
       "  '__kwdefaults__',\n",
       "  '__le__',\n",
       "  '__lt__',\n",
       "  '__module__',\n",
       "  '__name__',\n",
       "  '__ne__',\n",
       "  '__new__',\n",
       "  '__qualname__',\n",
       "  '__reduce__',\n",
       "  '__reduce_ex__',\n",
       "  '__repr__',\n",
       "  '__setattr__',\n",
       "  '__sizeof__',\n",
       "  '__str__',\n",
       "  '__subclasshook__'],\n",
       " '_i6': 'hello.__code__',\n",
       " '_6': <code object hello at 0x110e45190, file \"<ipython-input-2-5a23b52c8aa5>\", line 1>,\n",
       " '_i7': 'dir(hello.__code__)',\n",
       " '_7': ['__class__',\n",
       "  '__delattr__',\n",
       "  '__dir__',\n",
       "  '__doc__',\n",
       "  '__eq__',\n",
       "  '__format__',\n",
       "  '__ge__',\n",
       "  '__getattribute__',\n",
       "  '__gt__',\n",
       "  '__hash__',\n",
       "  '__init__',\n",
       "  '__init_subclass__',\n",
       "  '__le__',\n",
       "  '__lt__',\n",
       "  '__ne__',\n",
       "  '__new__',\n",
       "  '__reduce__',\n",
       "  '__reduce_ex__',\n",
       "  '__repr__',\n",
       "  '__setattr__',\n",
       "  '__sizeof__',\n",
       "  '__str__',\n",
       "  '__subclasshook__',\n",
       "  'co_argcount',\n",
       "  'co_cellvars',\n",
       "  'co_code',\n",
       "  'co_consts',\n",
       "  'co_filename',\n",
       "  'co_firstlineno',\n",
       "  'co_flags',\n",
       "  'co_freevars',\n",
       "  'co_kwonlyargcount',\n",
       "  'co_lnotab',\n",
       "  'co_name',\n",
       "  'co_names',\n",
       "  'co_nlocals',\n",
       "  'co_posonlyargcount',\n",
       "  'co_stacksize',\n",
       "  'co_varnames',\n",
       "  'replace'],\n",
       " '_i8': 'hello()',\n",
       " '_i9': 'hello.__code__.co_argcount',\n",
       " '_9': 1,\n",
       " '_i10': 'def add(a, b):\\n    return a + b\\n\\nadd.__code__.co_argcount',\n",
       " 'add': <function __main__.add(a, b=10)>,\n",
       " '_10': 2,\n",
       " '_i11': 'add.__code__.co_varnames',\n",
       " '_11': ('a', 'b'),\n",
       " '_i12': 'hello.__code__.co_varnames',\n",
       " '_12': ('name',),\n",
       " '_i13': \"def hello(name):\\n    s = f'Hello, {name}!'\\n    return s\",\n",
       " '_i14': 'hello.__code__.co_argcount',\n",
       " '_14': 1,\n",
       " '_i15': 'hello.__code__.co_varnames',\n",
       " '_15': ('name', 's'),\n",
       " '_i16': 'hello()',\n",
       " '_i17': 'add()',\n",
       " '_i18': 'add(10)',\n",
       " '_i19': 'def add(a, b=10):\\n    return a + b',\n",
       " '_i20': 'add(50, 60)',\n",
       " '_20': 110,\n",
       " '_i21': 'add(50)',\n",
       " '_21': 60,\n",
       " '_i22': 'add.__code__.co_argcount',\n",
       " '_22': 2,\n",
       " '_i23': 'add.__defaults__',\n",
       " '_23': (10,),\n",
       " '_i24': 'def add(a, b):\\n    return a + b',\n",
       " '_i25': 'def add(a, b=10):\\n    return a + b',\n",
       " '_i26': 'add.__code__.co_argcount',\n",
       " '_26': 2,\n",
       " '_i27': 'add.__code__.co_varnames',\n",
       " '_27': ('a', 'b'),\n",
       " '_i28': 'add.__defaults)__',\n",
       " '_i29': 'add.__defaults__',\n",
       " '_29': (10,),\n",
       " '_i30': 'def foo(a, b=2, c=3, d=4):\\n    return a + b + c + d\\n\\nfoo.__code__.co_argcount',\n",
       " 'foo': <function __main__.foo(a, b, **kwargs)>,\n",
       " '_30': 4,\n",
       " '_i31': 'foo(10, 20, 30)',\n",
       " '_31': 64,\n",
       " '_i32': 'foo.__defaults__',\n",
       " '_32': (2, 3, 4),\n",
       " '_i33': 'foo.__code__.co_varnames',\n",
       " '_33': ('a', 'b', 'c', 'd'),\n",
       " '_i34': 'def add(a, b):\\n    return a + b',\n",
       " '_i35': 'add.__code__.co_code',\n",
       " '_35': b'|\\x00|\\x01\\x17\\x00S\\x00',\n",
       " '_i36': 'import dis',\n",
       " 'dis': <module 'dis' from '/usr/local/Cellar/python@3.8/3.8.5/Frameworks/Python.framework/Versions/3.8/lib/python3.8/dis.py'>,\n",
       " '_i37': 'import dis  # in the standard library, \"disassembly\" module',\n",
       " '_i38': 'dis.dis(add)',\n",
       " '_i39': 'add.__code__.co_varnames',\n",
       " '_39': ('a', 'b'),\n",
       " '_i40': '# PyPy -- JIT compiled version of Python',\n",
       " '_i41': '0x17',\n",
       " '_41': 23,\n",
       " '_i42': 'chr(0x17)',\n",
       " '_42': '\\x17',\n",
       " '_i43': 'print(chr(0x17))',\n",
       " '_i44': '!man ascii',\n",
       " '_exit_code': 0,\n",
       " '_i45': 'def add(a, b=10):\\n    return a + b',\n",
       " '_i46': 'dis.dis(add)',\n",
       " '_i47': 'add(5)',\n",
       " '_47': 15,\n",
       " '_i48': 'add.__code__.co_code',\n",
       " '_48': b'|\\x00|\\x01\\x17\\x00S\\x00',\n",
       " '_i49': 'len(add.__code__.co_code)',\n",
       " '_49': 8,\n",
       " '_i50': 's = add.__code__.co_code',\n",
       " 's': b'|\\x00|\\x01\\x17\\x00S\\x00',\n",
       " '_i51': 's[0]',\n",
       " '_51': 124,\n",
       " '_i52': '[hex(one_byte)\\none_byte in add.__code__.co_code]',\n",
       " '_i53': '[hex(one_byte)\\n one_byte in add.__code__.co_code]',\n",
       " '_i54': '[hex(one_byte)\\n for one_byte in add.__code__.co_code]',\n",
       " '_54': ['0x7c', '0x0', '0x7c', '0x1', '0x17', '0x0', '0x53', '0x0'],\n",
       " '_i55': \"print('\\\\n'.join([hex(one_byte)\\n                 for one_byte in add.__code__.co_code])\",\n",
       " '_i56': \"print('\\\\n'.join([hex(one_byte)\\n                 for one_byte in add.__code__.co_code]))\",\n",
       " '_i57': \"print('\\\\n'.join([f'{index} {hex(one_byte)}'\\n                 for index, one_byte in enumerate(add.__code__.co_code)]))\",\n",
       " '_i58': 'dis.dis(add)',\n",
       " '_i59': \"def hello():\\n    return 'Hello!'\",\n",
       " '_i60': 'dis.dis(hello)',\n",
       " '_i61': 'hello.__code__.co_const',\n",
       " '_i62': 'hello.__code__.co_consts',\n",
       " '_62': (None, 'Hello!'),\n",
       " '_i63': \"def hello():\\n    s = 'Hello!'\\n    return s\",\n",
       " '_i64': 'dis.dis(hello)',\n",
       " '_i65': 'hello.__code__.co_varnames',\n",
       " '_65': ('s',),\n",
       " '_i66': \"def hello(name):\\n    return f'Hello, {name}!'\",\n",
       " '_i67': 'dis.dis(hello)',\n",
       " '_i68': \"def hello(name):\\n    print(f'Hello, {name}!')\",\n",
       " '_i69': 'dis.dis(hello)',\n",
       " '_i70': 'def foo():\\n    pass',\n",
       " '_i71': 'dis.dis(foo)',\n",
       " '_i72': 'def foo():\\n    return 1\\n    return 2\\n    return 3',\n",
       " '_i73': 'foo()',\n",
       " '_73': 1,\n",
       " '_i74': 'dis.dis(foo)',\n",
       " '_i75': '# what if we write a generator function?\\n\\ndef foo():\\n    yield 1\\n    yield 2\\n    yield 3',\n",
       " '_i76': 'foo()',\n",
       " '_76': <generator object foo at 0x113cd5740>,\n",
       " '_i77': 'dis.show_code(foo)',\n",
       " '_i78': 'def foo():\\n    return 1\\n    return 2\\n    return 3\\n\\ndis.show_code(foo)',\n",
       " '_i79': 'foo.__code__.co_flags',\n",
       " '_79': 67,\n",
       " '_i80': 'bin(foo.__code__.co_flags)',\n",
       " '_80': '0b1000011',\n",
       " '_i81': 'def foo():\\n    yield 1\\n    yield 2\\n    yield 3\\n    \\nfoo.__code__.co_flags',\n",
       " '_81': 99,\n",
       " '_i82': 'bin(foo.__code__.co_flags)',\n",
       " '_82': '0b1100011',\n",
       " '_i83': \"def foo(a, b, args):  # no, not *args\\n    return f'{a=} {b=} {args=}'   # as of Python 3.8, this prints varname=value\",\n",
       " '_i84': 'foo(10, 20, 30)',\n",
       " '_84': 'a=10 b=20 args=30',\n",
       " '_i85': 'foo(10, 20, 30, 40 ,50)',\n",
       " '_i86': 'foo.__code__.co_varnames',\n",
       " '_86': ('a', 'b', 'args'),\n",
       " '_i87': 'foo.__code__.co_argcount',\n",
       " '_87': 3,\n",
       " '_i88': \"def foo(a, b, *args):  # *args means: args will absorb all unclaimed positional args\\n    return f'{a=} {b=} {args=}'   # as of Python 3.8, this prints varname=value\",\n",
       " '_i89': 'foo(10, 20, 30, 40, 50)',\n",
       " '_89': 'a=10 b=20 args=(30, 40, 50)',\n",
       " '_i90': 'foo.__code__.co_varnames',\n",
       " '_90': ('a', 'b', 'args'),\n",
       " '_i91': 'foo.__code__.co_argcount',\n",
       " '_91': 2,\n",
       " '_i92': 'dis.show_code(foo)',\n",
       " '_i93': \"def foo(a, b, **kwargs):  # **kwargs means: take keyword args (name=value), stick in a dict\\n    return f'{a=} {b=} {kwargs=}'   # as of Python 3.8, this prints varname=value\",\n",
       " '_i94': 'foo(10, 20, x=100, y=200, z= 300)',\n",
       " '_94': \"a=10 b=20 kwargs={'x': 100, 'y': 200, 'z': 300}\",\n",
       " '_i95': 'dis.show_code(foo)',\n",
       " '_i96': 'del(x)',\n",
       " '_i97': \"x = 100\\n\\nprint(f'{x=}')\",\n",
       " 'x': 100,\n",
       " '_i98': 'for i in range(10):\\n    print(i)',\n",
       " 'i': 9,\n",
       " '_i99': 'print(i)',\n",
       " '_i100': 'globals() '}"
      ]
     },
     "execution_count": 100,
     "metadata": {},
     "output_type": "execute_result"
    }
   ],
   "source": [
    "globals() "
   ]
  },
  {
   "cell_type": "code",
   "execution_count": 101,
   "metadata": {},
   "outputs": [
    {
     "data": {
      "text/plain": [
       "True"
      ]
     },
     "execution_count": 101,
     "metadata": {},
     "output_type": "execute_result"
    }
   ],
   "source": [
    "# to find out if x is a global, Python writes:\n",
    "\n",
    "'x' in globals()"
   ]
  },
  {
   "cell_type": "code",
   "execution_count": 102,
   "metadata": {},
   "outputs": [
    {
     "data": {
      "text/plain": [
       "100"
      ]
     },
     "execution_count": 102,
     "metadata": {},
     "output_type": "execute_result"
    }
   ],
   "source": [
    "globals()['x']"
   ]
  },
  {
   "cell_type": "code",
   "execution_count": 103,
   "metadata": {},
   "outputs": [
    {
     "name": "stdout",
     "output_type": "stream",
     "text": [
      "Before, x=100\n",
      "In foo, x=100\n",
      "After, x=100\n"
     ]
    }
   ],
   "source": [
    "x = 100\n",
    "\n",
    "def foo():\n",
    "    print(f'In foo, {x=}')    # is x local? NO. is x global? YES\n",
    "\n",
    "print(f'Before, {x=}')   # is x global? yes == 100\n",
    "foo()\n",
    "print(f'After, {x=}')    # is x global? yes == 100"
   ]
  },
  {
   "cell_type": "code",
   "execution_count": 104,
   "metadata": {},
   "outputs": [
    {
     "data": {
      "text/plain": [
       "False"
      ]
     },
     "execution_count": 104,
     "metadata": {},
     "output_type": "execute_result"
    }
   ],
   "source": [
    "'x' in foo.__code__.co_varnames"
   ]
  },
  {
   "cell_type": "code",
   "execution_count": 105,
   "metadata": {},
   "outputs": [
    {
     "name": "stdout",
     "output_type": "stream",
     "text": [
      "Before, x=100\n",
      "I am bar!\n",
      "In foo, x=100\n",
      "After, x=100\n"
     ]
    }
   ],
   "source": [
    "x = 100\n",
    "\n",
    "def bar():\n",
    "    print(f'I am bar!')\n",
    "\n",
    "def foo():\n",
    "    bar()\n",
    "    print(f'In foo, {x=}')    # is x local? NO. is x global? YES\n",
    "\n",
    "print(f'Before, {x=}')   # is x global? yes == 100\n",
    "foo()\n",
    "print(f'After, {x=}')    # is x global? yes == 100"
   ]
  },
  {
   "cell_type": "code",
   "execution_count": 106,
   "metadata": {},
   "outputs": [
    {
     "name": "stdout",
     "output_type": "stream",
     "text": [
      "Before, x=100\n",
      "In foo, x=200\n",
      "After, x=100\n"
     ]
    }
   ],
   "source": [
    "x = 100\n",
    "\n",
    "def foo():\n",
    "    x = 200\n",
    "    print(f'In foo, {x=}') # is x local? YES == 200\n",
    "\n",
    "print(f'Before, {x=}')   # is x global? YES == 100\n",
    "foo()\n",
    "print(f'After, {x=}')   # is x global? YES == 100 "
   ]
  },
  {
   "cell_type": "code",
   "execution_count": 107,
   "metadata": {},
   "outputs": [
    {
     "data": {
      "text/plain": [
       "('x',)"
      ]
     },
     "execution_count": 107,
     "metadata": {},
     "output_type": "execute_result"
    }
   ],
   "source": [
    "foo.__code__.co_varnames"
   ]
  },
  {
   "cell_type": "code",
   "execution_count": 108,
   "metadata": {},
   "outputs": [
    {
     "name": "stdout",
     "output_type": "stream",
     "text": [
      "Before, x=100\n"
     ]
    },
    {
     "ename": "UnboundLocalError",
     "evalue": "local variable 'x' referenced before assignment",
     "output_type": "error",
     "traceback": [
      "\u001b[0;31m---------------------------------------------------------------------------\u001b[0m",
      "\u001b[0;31mUnboundLocalError\u001b[0m                         Traceback (most recent call last)",
      "\u001b[0;32m<ipython-input-108-3b48a12496f1>\u001b[0m in \u001b[0;36m<module>\u001b[0;34m\u001b[0m\n\u001b[1;32m      6\u001b[0m \u001b[0;34m\u001b[0m\u001b[0m\n\u001b[1;32m      7\u001b[0m \u001b[0mprint\u001b[0m\u001b[0;34m(\u001b[0m\u001b[0;34mf'Before, {x=}'\u001b[0m\u001b[0;34m)\u001b[0m\u001b[0;34m\u001b[0m\u001b[0;34m\u001b[0m\u001b[0m\n\u001b[0;32m----> 8\u001b[0;31m \u001b[0mfoo\u001b[0m\u001b[0;34m(\u001b[0m\u001b[0;34m)\u001b[0m\u001b[0;34m\u001b[0m\u001b[0;34m\u001b[0m\u001b[0m\n\u001b[0m\u001b[1;32m      9\u001b[0m \u001b[0mprint\u001b[0m\u001b[0;34m(\u001b[0m\u001b[0;34mf'After, {x=}'\u001b[0m\u001b[0;34m)\u001b[0m\u001b[0;34m\u001b[0m\u001b[0;34m\u001b[0m\u001b[0m\n",
      "\u001b[0;32m<ipython-input-108-3b48a12496f1>\u001b[0m in \u001b[0;36mfoo\u001b[0;34m()\u001b[0m\n\u001b[1;32m      2\u001b[0m \u001b[0;34m\u001b[0m\u001b[0m\n\u001b[1;32m      3\u001b[0m \u001b[0;32mdef\u001b[0m \u001b[0mfoo\u001b[0m\u001b[0;34m(\u001b[0m\u001b[0;34m)\u001b[0m\u001b[0;34m:\u001b[0m\u001b[0;34m\u001b[0m\u001b[0;34m\u001b[0m\u001b[0m\n\u001b[0;32m----> 4\u001b[0;31m     \u001b[0mprint\u001b[0m\u001b[0;34m(\u001b[0m\u001b[0;34mf'In foo, {x=}'\u001b[0m\u001b[0;34m)\u001b[0m\u001b[0;34m\u001b[0m\u001b[0;34m\u001b[0m\u001b[0m\n\u001b[0m\u001b[1;32m      5\u001b[0m     \u001b[0mx\u001b[0m \u001b[0;34m=\u001b[0m \u001b[0;36m200\u001b[0m\u001b[0;34m\u001b[0m\u001b[0;34m\u001b[0m\u001b[0m\n\u001b[1;32m      6\u001b[0m \u001b[0;34m\u001b[0m\u001b[0m\n",
      "\u001b[0;31mUnboundLocalError\u001b[0m: local variable 'x' referenced before assignment"
     ]
    }
   ],
   "source": [
    "x = 100\n",
    "\n",
    "def foo():\n",
    "    print(f'In foo, {x=}') # is x local? Yes, and the value is... UNBOUND\n",
    "    x = 200  # hoisting problem/issue\n",
    "\n",
    "print(f'Before, {x=}')   # is x global? Yes, and it's 100\n",
    "foo()\n",
    "print(f'After, {x=}')   "
   ]
  },
  {
   "cell_type": "code",
   "execution_count": 109,
   "metadata": {},
   "outputs": [
    {
     "name": "stdout",
     "output_type": "stream",
     "text": [
      "Before, x=100\n"
     ]
    },
    {
     "ename": "UnboundLocalError",
     "evalue": "local variable 'x' referenced before assignment",
     "output_type": "error",
     "traceback": [
      "\u001b[0;31m---------------------------------------------------------------------------\u001b[0m",
      "\u001b[0;31mUnboundLocalError\u001b[0m                         Traceback (most recent call last)",
      "\u001b[0;32m<ipython-input-109-58bdb97baa36>\u001b[0m in \u001b[0;36m<module>\u001b[0;34m\u001b[0m\n\u001b[1;32m      6\u001b[0m \u001b[0;34m\u001b[0m\u001b[0m\n\u001b[1;32m      7\u001b[0m \u001b[0mprint\u001b[0m\u001b[0;34m(\u001b[0m\u001b[0;34mf'Before, {x=}'\u001b[0m\u001b[0;34m)\u001b[0m   \u001b[0;31m# is x global? Yes, and it's 100\u001b[0m\u001b[0;34m\u001b[0m\u001b[0;34m\u001b[0m\u001b[0m\n\u001b[0;32m----> 8\u001b[0;31m \u001b[0mfoo\u001b[0m\u001b[0;34m(\u001b[0m\u001b[0;34m)\u001b[0m\u001b[0;34m\u001b[0m\u001b[0;34m\u001b[0m\u001b[0m\n\u001b[0m\u001b[1;32m      9\u001b[0m \u001b[0mprint\u001b[0m\u001b[0;34m(\u001b[0m\u001b[0;34mf'After, {x=}'\u001b[0m\u001b[0;34m)\u001b[0m\u001b[0;34m\u001b[0m\u001b[0;34m\u001b[0m\u001b[0m\n",
      "\u001b[0;32m<ipython-input-109-58bdb97baa36>\u001b[0m in \u001b[0;36mfoo\u001b[0;34m()\u001b[0m\n\u001b[1;32m      2\u001b[0m \u001b[0;34m\u001b[0m\u001b[0m\n\u001b[1;32m      3\u001b[0m \u001b[0;32mdef\u001b[0m \u001b[0mfoo\u001b[0m\u001b[0;34m(\u001b[0m\u001b[0;34m)\u001b[0m\u001b[0;34m:\u001b[0m\u001b[0;34m\u001b[0m\u001b[0;34m\u001b[0m\u001b[0m\n\u001b[0;32m----> 4\u001b[0;31m     \u001b[0mx\u001b[0m \u001b[0;34m+=\u001b[0m \u001b[0;36m1\u001b[0m\u001b[0;34m\u001b[0m\u001b[0;34m\u001b[0m\u001b[0m\n\u001b[0m\u001b[1;32m      5\u001b[0m     \u001b[0mprint\u001b[0m\u001b[0;34m(\u001b[0m\u001b[0;34mf'In foo, {x=}'\u001b[0m\u001b[0;34m)\u001b[0m\u001b[0;34m\u001b[0m\u001b[0;34m\u001b[0m\u001b[0m\n\u001b[1;32m      6\u001b[0m \u001b[0;34m\u001b[0m\u001b[0m\n",
      "\u001b[0;31mUnboundLocalError\u001b[0m: local variable 'x' referenced before assignment"
     ]
    }
   ],
   "source": [
    "x = 100\n",
    "\n",
    "def foo():\n",
    "    x = x + 1\n",
    "    print(f'In foo, {x=}')\n",
    "\n",
    "print(f'Before, {x=}')   # is x global? Yes, and it's 100\n",
    "foo()\n",
    "print(f'After, {x=}')   "
   ]
  },
  {
   "cell_type": "code",
   "execution_count": 110,
   "metadata": {},
   "outputs": [
    {
     "name": "stdout",
     "output_type": "stream",
     "text": [
      "Before, x=100\n",
      "In foo, x=200\n",
      "After, x=200\n"
     ]
    }
   ],
   "source": [
    "x = 100\n",
    "\n",
    "def foo():\n",
    "    global x  # statement/declaration\n",
    "    x = 200 \n",
    "    print(f'In foo, {x=}')\n",
    "\n",
    "print(f'Before, {x=}')  \n",
    "foo()\n",
    "print(f'After, {x=}')   "
   ]
  },
  {
   "cell_type": "code",
   "execution_count": 112,
   "metadata": {},
   "outputs": [
    {
     "data": {
      "text/plain": [
       "()"
      ]
     },
     "execution_count": 112,
     "metadata": {},
     "output_type": "execute_result"
    }
   ],
   "source": [
    "\n",
    "def foo():\n",
    "    global x  # statement/declaration\n",
    "    x = 200 \n",
    "    print(f'In foo, {x=}')\n",
    "    \n",
    "foo.__code__.co_varnames    "
   ]
  },
  {
   "cell_type": "code",
   "execution_count": 113,
   "metadata": {},
   "outputs": [
    {
     "name": "stdout",
     "output_type": "stream",
     "text": [
      "  2           0 LOAD_CONST               1 (200)\n",
      "              2 STORE_FAST               0 (x)\n",
      "\n",
      "  3           4 LOAD_GLOBAL              0 (print)\n",
      "              6 LOAD_CONST               2 ('In foo, x=')\n",
      "              8 LOAD_FAST                0 (x)\n",
      "             10 FORMAT_VALUE             2 (repr)\n",
      "             12 BUILD_STRING             2\n",
      "             14 CALL_FUNCTION            1\n",
      "             16 POP_TOP\n",
      "             18 LOAD_CONST               0 (None)\n",
      "             20 RETURN_VALUE\n"
     ]
    }
   ],
   "source": [
    "def foo():\n",
    "    x = 200 \n",
    "    print(f'In foo, {x=}')\n",
    "    \n",
    "dis.dis(foo)"
   ]
  },
  {
   "cell_type": "code",
   "execution_count": 114,
   "metadata": {},
   "outputs": [
    {
     "name": "stdout",
     "output_type": "stream",
     "text": [
      "  3           0 LOAD_CONST               1 (200)\n",
      "              2 STORE_GLOBAL             0 (x)\n",
      "\n",
      "  4           4 LOAD_GLOBAL              1 (print)\n",
      "              6 LOAD_CONST               2 ('In foo, x=')\n",
      "              8 LOAD_GLOBAL              0 (x)\n",
      "             10 FORMAT_VALUE             2 (repr)\n",
      "             12 BUILD_STRING             2\n",
      "             14 CALL_FUNCTION            1\n",
      "             16 POP_TOP\n",
      "             18 LOAD_CONST               0 (None)\n",
      "             20 RETURN_VALUE\n"
     ]
    }
   ],
   "source": [
    "def foo():\n",
    "    global x\n",
    "    x = 200 \n",
    "    print(f'In foo, {x=}')\n",
    "    \n",
    "dis.dis(foo)"
   ]
  },
  {
   "cell_type": "code",
   "execution_count": null,
   "metadata": {},
   "outputs": [],
   "source": []
  }
 ],
 "metadata": {
  "kernelspec": {
   "display_name": "Python 3",
   "language": "python",
   "name": "python3"
  },
  "language_info": {
   "codemirror_mode": {
    "name": "ipython",
    "version": 3
   },
   "file_extension": ".py",
   "mimetype": "text/x-python",
   "name": "python",
   "nbconvert_exporter": "python",
   "pygments_lexer": "ipython3",
   "version": "3.8.5"
  }
 },
 "nbformat": 4,
 "nbformat_minor": 4
}
